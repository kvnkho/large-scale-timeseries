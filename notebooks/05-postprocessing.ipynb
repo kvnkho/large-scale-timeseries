{
 "cells": [
  {
   "cell_type": "markdown",
   "metadata": {},
   "source": [
    "# Postprocessing\n",
    "\n",
    "Here we analyze the modelling results."
   ]
  },
  {
   "cell_type": "code",
   "execution_count": 1,
   "metadata": {},
   "outputs": [],
   "source": [
    "import pandas as pd\n",
    "\n",
    "INPUT_DIR = os.path.abspath('data')\n",
    "WORKING_DIR = os.path.abspath(\"data/working\")"
   ]
  },
  {
   "cell_type": "markdown",
   "metadata": {},
   "source": [
    "## Python Solution"
   ]
  },
  {
   "cell_type": "code",
   "execution_count": null,
   "metadata": {},
   "outputs": [],
   "source": [
    "results = pd.read_parquet(f'{WORKING_DIR}/model_search.parquet')\n",
    "best_models = results.sort_values('metric', ascending=True).groupby(\"unique_id\").first()\n",
    "best_models['models'].value_counts()"
   ]
  },
  {
   "cell_type": "code",
   "execution_count": 2,
   "metadata": {},
   "outputs": [
    {
     "data": {
      "application/javascript": "\nrequire([\"codemirror/lib/codemirror\"]);\nfunction set(str) {\n    var obj = {}, words = str.split(\" \");\n    for (var i = 0; i < words.length; ++i) obj[words[i]] = true;\n    return obj;\n  }\nvar fugue_keywords = \"fill hash rand even presort persist broadcast params process output outtransform rowcount concurrency prepartition zip print title save append parquet csv json single checkpoint weak strong deterministic yield connect sample seed take sub callback dataframe file\";\nCodeMirror.defineMIME(\"text/x-fsql\", {\n    name: \"sql\",\n    keywords: set(fugue_keywords + \" add after all alter analyze and anti archive array as asc at between bucket buckets by cache cascade case cast change clear cluster clustered codegen collection column columns comment commit compact compactions compute concatenate cost create cross cube current current_date current_timestamp database databases data dbproperties defined delete delimited deny desc describe dfs directories distinct distribute drop else end escaped except exchange exists explain export extended external false fields fileformat first following for format formatted from full function functions global grant group grouping having if ignore import in index indexes inner inpath inputformat insert intersect interval into is items join keys last lateral lazy left like limit lines list load local location lock locks logical macro map minus msck natural no not null nulls of on optimize option options or order out outer outputformat over overwrite partition partitioned partitions percent preceding principals purge range recordreader recordwriter recover reduce refresh regexp rename repair replace reset restrict revoke right rlike role roles rollback rollup row rows schema schemas select semi separated serde serdeproperties set sets show skewed sort sorted start statistics stored stratify struct table tables tablesample tblproperties temp temporary terminated then to touch transaction transactions transform true truncate unarchive unbounded uncache union unlock unset use using values view when where window with\"),\n    builtin: set(\"date datetime tinyint smallint int bigint boolean float double string binary timestamp decimal array map struct uniontype delimited serde sequencefile textfile rcfile inputformat outputformat\"),\n    atoms: set(\"false true null\"),\n    operatorChars: /^[*\\/+\\-%<>!=~&|^]/,\n    dateSQL: set(\"time\"),\n    support: set(\"ODBCdotTable doubleQuote zerolessFloat\")\n  });\n\nCodeMirror.modeInfo.push( {\n            name: \"Fugue SQL\",\n            mime: \"text/x-fsql\",\n            mode: \"sql\"\n          } );\n\nrequire(['notebook/js/codecell'], function(codecell) {\n    codecell.CodeCell.options_default.highlight_modes['magic_text/x-fsql'] = {'reg':[/%%fsql/]} ;\n    Jupyter.notebook.events.on('kernel_ready.Kernel', function(){\n    Jupyter.notebook.get_cells().map(function(cell){\n        if (cell.cell_type == 'code'){ cell.auto_highlight(); } }) ;\n    });\n  });\n",
      "text/plain": [
       "<IPython.core.display.Javascript object>"
      ]
     },
     "metadata": {},
     "output_type": "display_data"
    }
   ],
   "source": [
    "from fugue_notebook import setup\n",
    "setup()"
   ]
  },
  {
   "cell_type": "code",
   "execution_count": 4,
   "metadata": {},
   "outputs": [
    {
     "data": {
      "text/html": [
       "<div>\n",
       "<style scoped>\n",
       "    .dataframe tbody tr th:only-of-type {\n",
       "        vertical-align: middle;\n",
       "    }\n",
       "\n",
       "    .dataframe tbody tr th {\n",
       "        vertical-align: top;\n",
       "    }\n",
       "\n",
       "    .dataframe thead th {\n",
       "        text-align: right;\n",
       "    }\n",
       "</style>\n",
       "<table border=\"1\" class=\"dataframe\">\n",
       "  <thead>\n",
       "    <tr style=\"text-align: right;\">\n",
       "      <th></th>\n",
       "      <th>models</th>\n",
       "      <th>metric</th>\n",
       "      <th>unique_id</th>\n",
       "    </tr>\n",
       "  </thead>\n",
       "  <tbody>\n",
       "    <tr>\n",
       "      <th>0</th>\n",
       "      <td>CrostonClassic</td>\n",
       "      <td>1.279644</td>\n",
       "      <td>HOBBIES_1_001_CA_1_evaluation</td>\n",
       "    </tr>\n",
       "    <tr>\n",
       "      <th>1</th>\n",
       "      <td>IMAPA</td>\n",
       "      <td>1.123630</td>\n",
       "      <td>HOBBIES_1_001_CA_1_evaluation</td>\n",
       "    </tr>\n",
       "    <tr>\n",
       "      <th>2</th>\n",
       "      <td>AutoARIMA</td>\n",
       "      <td>1.107207</td>\n",
       "      <td>HOBBIES_1_001_CA_1_evaluation</td>\n",
       "    </tr>\n",
       "    <tr>\n",
       "      <th>3</th>\n",
       "      <td>CrostonClassic</td>\n",
       "      <td>0.930472</td>\n",
       "      <td>HOBBIES_1_002_CA_1_evaluation</td>\n",
       "    </tr>\n",
       "    <tr>\n",
       "      <th>4</th>\n",
       "      <td>IMAPA</td>\n",
       "      <td>0.330838</td>\n",
       "      <td>HOBBIES_1_002_CA_1_evaluation</td>\n",
       "    </tr>\n",
       "    <tr>\n",
       "      <th>5</th>\n",
       "      <td>AutoARIMA</td>\n",
       "      <td>0.408934</td>\n",
       "      <td>HOBBIES_1_002_CA_1_evaluation</td>\n",
       "    </tr>\n",
       "    <tr>\n",
       "      <th>6</th>\n",
       "      <td>CrostonClassic</td>\n",
       "      <td>0.956045</td>\n",
       "      <td>HOBBIES_1_003_CA_1_evaluation</td>\n",
       "    </tr>\n",
       "    <tr>\n",
       "      <th>7</th>\n",
       "      <td>IMAPA</td>\n",
       "      <td>0.806460</td>\n",
       "      <td>HOBBIES_1_003_CA_1_evaluation</td>\n",
       "    </tr>\n",
       "    <tr>\n",
       "      <th>8</th>\n",
       "      <td>AutoARIMA</td>\n",
       "      <td>0.807030</td>\n",
       "      <td>HOBBIES_1_003_CA_1_evaluation</td>\n",
       "    </tr>\n",
       "    <tr>\n",
       "      <th>9</th>\n",
       "      <td>CrostonClassic</td>\n",
       "      <td>1.952671</td>\n",
       "      <td>HOBBIES_1_004_CA_1_evaluation</td>\n",
       "    </tr>\n",
       "  </tbody>\n",
       "</table>\n",
       "</div>"
      ],
      "text/plain": [
       "           models    metric                      unique_id\n",
       "0  CrostonClassic  1.279644  HOBBIES_1_001_CA_1_evaluation\n",
       "1           IMAPA  1.123630  HOBBIES_1_001_CA_1_evaluation\n",
       "2       AutoARIMA  1.107207  HOBBIES_1_001_CA_1_evaluation\n",
       "3  CrostonClassic  0.930472  HOBBIES_1_002_CA_1_evaluation\n",
       "4           IMAPA  0.330838  HOBBIES_1_002_CA_1_evaluation\n",
       "5       AutoARIMA  0.408934  HOBBIES_1_002_CA_1_evaluation\n",
       "6  CrostonClassic  0.956045  HOBBIES_1_003_CA_1_evaluation\n",
       "7           IMAPA  0.806460  HOBBIES_1_003_CA_1_evaluation\n",
       "8       AutoARIMA  0.807030  HOBBIES_1_003_CA_1_evaluation\n",
       "9  CrostonClassic  1.952671  HOBBIES_1_004_CA_1_evaluation"
      ]
     },
     "metadata": {},
     "output_type": "display_data"
    },
    {
     "data": {
      "text/html": [
       "<small>schema: models:str,metric:float,unique_id:str</small>"
      ],
      "text/plain": [
       "<IPython.core.display.HTML object>"
      ]
     },
     "metadata": {},
     "output_type": "display_data"
    }
   ],
   "source": [
    "%%fsql\n",
    "results = LOAD '{{WORKING_DIR}}/model_search.parquet'\n",
    "PRINT"
   ]
  },
  {
   "cell_type": "code",
   "execution_count": 7,
   "metadata": {},
   "outputs": [
    {
     "name": "stdout",
     "output_type": "stream",
     "text": [
      "ANTLR runtime and generated code versions disagree: 4.11.1!=4.10.1\n",
      "ANTLR runtime and generated code versions disagree: 4.11.1!=4.10.1\n",
      "ANTLR runtime and generated code versions disagree: 4.11.1!=4.10.1\n",
      "ANTLR runtime and generated code versions disagree: 4.11.1!=4.10.1\n"
     ]
    },
    {
     "data": {
      "text/html": [
       "<div>\n",
       "<style scoped>\n",
       "    .dataframe tbody tr th:only-of-type {\n",
       "        vertical-align: middle;\n",
       "    }\n",
       "\n",
       "    .dataframe tbody tr th {\n",
       "        vertical-align: top;\n",
       "    }\n",
       "\n",
       "    .dataframe thead th {\n",
       "        text-align: right;\n",
       "    }\n",
       "</style>\n",
       "<table border=\"1\" class=\"dataframe\">\n",
       "  <thead>\n",
       "    <tr style=\"text-align: right;\">\n",
       "      <th></th>\n",
       "      <th>models</th>\n",
       "      <th>metric</th>\n",
       "      <th>unique_id</th>\n",
       "      <th>ranked_order</th>\n",
       "    </tr>\n",
       "  </thead>\n",
       "  <tbody>\n",
       "    <tr>\n",
       "      <th>0</th>\n",
       "      <td>AutoARIMA</td>\n",
       "      <td>0.116100</td>\n",
       "      <td>HOBBIES_1_018_CA_1_evaluation</td>\n",
       "      <td>1</td>\n",
       "    </tr>\n",
       "    <tr>\n",
       "      <th>1</th>\n",
       "      <td>IMAPA</td>\n",
       "      <td>0.121229</td>\n",
       "      <td>HOBBIES_1_011_CA_1_evaluation</td>\n",
       "      <td>1</td>\n",
       "    </tr>\n",
       "    <tr>\n",
       "      <th>2</th>\n",
       "      <td>IMAPA</td>\n",
       "      <td>0.173060</td>\n",
       "      <td>HOBBIES_1_035_CA_1_evaluation</td>\n",
       "      <td>1</td>\n",
       "    </tr>\n",
       "    <tr>\n",
       "      <th>3</th>\n",
       "      <td>AutoARIMA</td>\n",
       "      <td>0.192589</td>\n",
       "      <td>HOBBIES_1_039_CA_1_evaluation</td>\n",
       "      <td>1</td>\n",
       "    </tr>\n",
       "    <tr>\n",
       "      <th>4</th>\n",
       "      <td>IMAPA</td>\n",
       "      <td>0.256529</td>\n",
       "      <td>HOBBIES_1_020_CA_1_evaluation</td>\n",
       "      <td>1</td>\n",
       "    </tr>\n",
       "    <tr>\n",
       "      <th>5</th>\n",
       "      <td>IMAPA</td>\n",
       "      <td>0.278753</td>\n",
       "      <td>HOBBIES_1_026_CA_1_evaluation</td>\n",
       "      <td>1</td>\n",
       "    </tr>\n",
       "    <tr>\n",
       "      <th>6</th>\n",
       "      <td>IMAPA</td>\n",
       "      <td>0.291273</td>\n",
       "      <td>HOBBIES_1_031_CA_1_evaluation</td>\n",
       "      <td>1</td>\n",
       "    </tr>\n",
       "    <tr>\n",
       "      <th>7</th>\n",
       "      <td>IMAPA</td>\n",
       "      <td>0.292980</td>\n",
       "      <td>HOBBIES_1_024_CA_1_evaluation</td>\n",
       "      <td>1</td>\n",
       "    </tr>\n",
       "    <tr>\n",
       "      <th>8</th>\n",
       "      <td>IMAPA</td>\n",
       "      <td>0.330838</td>\n",
       "      <td>HOBBIES_1_002_CA_1_evaluation</td>\n",
       "      <td>1</td>\n",
       "    </tr>\n",
       "    <tr>\n",
       "      <th>9</th>\n",
       "      <td>AutoARIMA</td>\n",
       "      <td>0.336962</td>\n",
       "      <td>HOBBIES_1_012_CA_1_evaluation</td>\n",
       "      <td>1</td>\n",
       "    </tr>\n",
       "  </tbody>\n",
       "</table>\n",
       "</div>"
      ],
      "text/plain": [
       "      models    metric                      unique_id  ranked_order\n",
       "0  AutoARIMA  0.116100  HOBBIES_1_018_CA_1_evaluation             1\n",
       "1      IMAPA  0.121229  HOBBIES_1_011_CA_1_evaluation             1\n",
       "2      IMAPA  0.173060  HOBBIES_1_035_CA_1_evaluation             1\n",
       "3  AutoARIMA  0.192589  HOBBIES_1_039_CA_1_evaluation             1\n",
       "4      IMAPA  0.256529  HOBBIES_1_020_CA_1_evaluation             1\n",
       "5      IMAPA  0.278753  HOBBIES_1_026_CA_1_evaluation             1\n",
       "6      IMAPA  0.291273  HOBBIES_1_031_CA_1_evaluation             1\n",
       "7      IMAPA  0.292980  HOBBIES_1_024_CA_1_evaluation             1\n",
       "8      IMAPA  0.330838  HOBBIES_1_002_CA_1_evaluation             1\n",
       "9  AutoARIMA  0.336962  HOBBIES_1_012_CA_1_evaluation             1"
      ]
     },
     "metadata": {},
     "output_type": "display_data"
    },
    {
     "data": {
      "text/html": [
       "<small>schema: models:str,metric:float,unique_id:str,ranked_order:long</small>"
      ],
      "text/plain": [
       "<IPython.core.display.HTML object>"
      ]
     },
     "metadata": {},
     "output_type": "display_data"
    }
   ],
   "source": [
    "%%fsql\n",
    "results = LOAD '{{WORKING_DIR}}/model_search.parquet'\n",
    "\n",
    "temp = SELECT models, metric, unique_id,\n",
    "       ROW_NUMBER() OVER (PARTITION BY unique_id ORDER BY metric ASC) AS ranked_order\n",
    "       FROM results\n",
    "\n",
    "SELECT *\n",
    "  FROM temp\n",
    " WHERE ranked_order = 1 \n",
    " PRINT"
   ]
  },
  {
   "cell_type": "markdown",
   "metadata": {},
   "source": [
    "## Anonymity\n",
    "\n",
    "We can simplify the code further by removing the temp table. The next query will just operate on the result of the previous query."
   ]
  },
  {
   "cell_type": "code",
   "execution_count": 9,
   "metadata": {},
   "outputs": [
    {
     "name": "stdout",
     "output_type": "stream",
     "text": [
      "ANTLR runtime and generated code versions disagree: 4.11.1!=4.10.1\n",
      "ANTLR runtime and generated code versions disagree: 4.11.1!=4.10.1\n",
      "ANTLR runtime and generated code versions disagree: 4.11.1!=4.10.1\n",
      "ANTLR runtime and generated code versions disagree: 4.11.1!=4.10.1\n"
     ]
    },
    {
     "data": {
      "text/html": [
       "<div>\n",
       "<style scoped>\n",
       "    .dataframe tbody tr th:only-of-type {\n",
       "        vertical-align: middle;\n",
       "    }\n",
       "\n",
       "    .dataframe tbody tr th {\n",
       "        vertical-align: top;\n",
       "    }\n",
       "\n",
       "    .dataframe thead th {\n",
       "        text-align: right;\n",
       "    }\n",
       "</style>\n",
       "<table border=\"1\" class=\"dataframe\">\n",
       "  <thead>\n",
       "    <tr style=\"text-align: right;\">\n",
       "      <th></th>\n",
       "      <th>models</th>\n",
       "      <th>metric</th>\n",
       "      <th>unique_id</th>\n",
       "      <th>ranked_order</th>\n",
       "    </tr>\n",
       "  </thead>\n",
       "  <tbody>\n",
       "    <tr>\n",
       "      <th>0</th>\n",
       "      <td>AutoARIMA</td>\n",
       "      <td>0.116100</td>\n",
       "      <td>HOBBIES_1_018_CA_1_evaluation</td>\n",
       "      <td>1</td>\n",
       "    </tr>\n",
       "    <tr>\n",
       "      <th>1</th>\n",
       "      <td>IMAPA</td>\n",
       "      <td>0.121229</td>\n",
       "      <td>HOBBIES_1_011_CA_1_evaluation</td>\n",
       "      <td>1</td>\n",
       "    </tr>\n",
       "    <tr>\n",
       "      <th>2</th>\n",
       "      <td>IMAPA</td>\n",
       "      <td>0.173060</td>\n",
       "      <td>HOBBIES_1_035_CA_1_evaluation</td>\n",
       "      <td>1</td>\n",
       "    </tr>\n",
       "    <tr>\n",
       "      <th>3</th>\n",
       "      <td>AutoARIMA</td>\n",
       "      <td>0.192589</td>\n",
       "      <td>HOBBIES_1_039_CA_1_evaluation</td>\n",
       "      <td>1</td>\n",
       "    </tr>\n",
       "    <tr>\n",
       "      <th>4</th>\n",
       "      <td>IMAPA</td>\n",
       "      <td>0.256529</td>\n",
       "      <td>HOBBIES_1_020_CA_1_evaluation</td>\n",
       "      <td>1</td>\n",
       "    </tr>\n",
       "    <tr>\n",
       "      <th>5</th>\n",
       "      <td>IMAPA</td>\n",
       "      <td>0.278753</td>\n",
       "      <td>HOBBIES_1_026_CA_1_evaluation</td>\n",
       "      <td>1</td>\n",
       "    </tr>\n",
       "    <tr>\n",
       "      <th>6</th>\n",
       "      <td>IMAPA</td>\n",
       "      <td>0.291273</td>\n",
       "      <td>HOBBIES_1_031_CA_1_evaluation</td>\n",
       "      <td>1</td>\n",
       "    </tr>\n",
       "    <tr>\n",
       "      <th>7</th>\n",
       "      <td>IMAPA</td>\n",
       "      <td>0.292980</td>\n",
       "      <td>HOBBIES_1_024_CA_1_evaluation</td>\n",
       "      <td>1</td>\n",
       "    </tr>\n",
       "    <tr>\n",
       "      <th>8</th>\n",
       "      <td>IMAPA</td>\n",
       "      <td>0.330838</td>\n",
       "      <td>HOBBIES_1_002_CA_1_evaluation</td>\n",
       "      <td>1</td>\n",
       "    </tr>\n",
       "    <tr>\n",
       "      <th>9</th>\n",
       "      <td>AutoARIMA</td>\n",
       "      <td>0.336962</td>\n",
       "      <td>HOBBIES_1_012_CA_1_evaluation</td>\n",
       "      <td>1</td>\n",
       "    </tr>\n",
       "  </tbody>\n",
       "</table>\n",
       "</div>"
      ],
      "text/plain": [
       "      models    metric                      unique_id  ranked_order\n",
       "0  AutoARIMA  0.116100  HOBBIES_1_018_CA_1_evaluation             1\n",
       "1      IMAPA  0.121229  HOBBIES_1_011_CA_1_evaluation             1\n",
       "2      IMAPA  0.173060  HOBBIES_1_035_CA_1_evaluation             1\n",
       "3  AutoARIMA  0.192589  HOBBIES_1_039_CA_1_evaluation             1\n",
       "4      IMAPA  0.256529  HOBBIES_1_020_CA_1_evaluation             1\n",
       "5      IMAPA  0.278753  HOBBIES_1_026_CA_1_evaluation             1\n",
       "6      IMAPA  0.291273  HOBBIES_1_031_CA_1_evaluation             1\n",
       "7      IMAPA  0.292980  HOBBIES_1_024_CA_1_evaluation             1\n",
       "8      IMAPA  0.330838  HOBBIES_1_002_CA_1_evaluation             1\n",
       "9  AutoARIMA  0.336962  HOBBIES_1_012_CA_1_evaluation             1"
      ]
     },
     "metadata": {},
     "output_type": "display_data"
    },
    {
     "data": {
      "text/html": [
       "<small>schema: models:str,metric:float,unique_id:str,ranked_order:long</small>"
      ],
      "text/plain": [
       "<IPython.core.display.HTML object>"
      ]
     },
     "metadata": {},
     "output_type": "display_data"
    }
   ],
   "source": [
    "%%fsql\n",
    "results = LOAD '{{WORKING_DIR}}/model_search.parquet'\n",
    "\n",
    "SELECT models, metric, unique_id,\n",
    "ROW_NUMBER() OVER (PARTITION BY unique_id ORDER BY metric ASC) AS ranked_order\n",
    "\n",
    "SELECT *\n",
    " WHERE ranked_order = 1 \n",
    " PRINT"
   ]
  },
  {
   "cell_type": "markdown",
   "metadata": {},
   "source": [
    "## Additional Keywords\n",
    "\n",
    "We can further simplify the query above by using additional `FugueSQL` keywords."
   ]
  },
  {
   "cell_type": "code",
   "execution_count": 12,
   "metadata": {},
   "outputs": [
    {
     "data": {
      "text/html": [
       "<div>\n",
       "<style scoped>\n",
       "    .dataframe tbody tr th:only-of-type {\n",
       "        vertical-align: middle;\n",
       "    }\n",
       "\n",
       "    .dataframe tbody tr th {\n",
       "        vertical-align: top;\n",
       "    }\n",
       "\n",
       "    .dataframe thead th {\n",
       "        text-align: right;\n",
       "    }\n",
       "</style>\n",
       "<table border=\"1\" class=\"dataframe\">\n",
       "  <thead>\n",
       "    <tr style=\"text-align: right;\">\n",
       "      <th></th>\n",
       "      <th>models</th>\n",
       "      <th>metric</th>\n",
       "      <th>unique_id</th>\n",
       "    </tr>\n",
       "  </thead>\n",
       "  <tbody>\n",
       "    <tr>\n",
       "      <th>0</th>\n",
       "      <td>AutoARIMA</td>\n",
       "      <td>0.116100</td>\n",
       "      <td>HOBBIES_1_018_CA_1_evaluation</td>\n",
       "    </tr>\n",
       "    <tr>\n",
       "      <th>1</th>\n",
       "      <td>IMAPA</td>\n",
       "      <td>0.121229</td>\n",
       "      <td>HOBBIES_1_011_CA_1_evaluation</td>\n",
       "    </tr>\n",
       "    <tr>\n",
       "      <th>2</th>\n",
       "      <td>IMAPA</td>\n",
       "      <td>0.173060</td>\n",
       "      <td>HOBBIES_1_035_CA_1_evaluation</td>\n",
       "    </tr>\n",
       "    <tr>\n",
       "      <th>3</th>\n",
       "      <td>AutoARIMA</td>\n",
       "      <td>0.192589</td>\n",
       "      <td>HOBBIES_1_039_CA_1_evaluation</td>\n",
       "    </tr>\n",
       "    <tr>\n",
       "      <th>4</th>\n",
       "      <td>IMAPA</td>\n",
       "      <td>0.256529</td>\n",
       "      <td>HOBBIES_1_020_CA_1_evaluation</td>\n",
       "    </tr>\n",
       "    <tr>\n",
       "      <th>5</th>\n",
       "      <td>IMAPA</td>\n",
       "      <td>0.278753</td>\n",
       "      <td>HOBBIES_1_026_CA_1_evaluation</td>\n",
       "    </tr>\n",
       "    <tr>\n",
       "      <th>6</th>\n",
       "      <td>IMAPA</td>\n",
       "      <td>0.291273</td>\n",
       "      <td>HOBBIES_1_031_CA_1_evaluation</td>\n",
       "    </tr>\n",
       "    <tr>\n",
       "      <th>7</th>\n",
       "      <td>IMAPA</td>\n",
       "      <td>0.292980</td>\n",
       "      <td>HOBBIES_1_024_CA_1_evaluation</td>\n",
       "    </tr>\n",
       "    <tr>\n",
       "      <th>8</th>\n",
       "      <td>IMAPA</td>\n",
       "      <td>0.330838</td>\n",
       "      <td>HOBBIES_1_002_CA_1_evaluation</td>\n",
       "    </tr>\n",
       "    <tr>\n",
       "      <th>9</th>\n",
       "      <td>AutoARIMA</td>\n",
       "      <td>0.336962</td>\n",
       "      <td>HOBBIES_1_012_CA_1_evaluation</td>\n",
       "    </tr>\n",
       "  </tbody>\n",
       "</table>\n",
       "</div>"
      ],
      "text/plain": [
       "      models    metric                      unique_id\n",
       "0  AutoARIMA  0.116100  HOBBIES_1_018_CA_1_evaluation\n",
       "1      IMAPA  0.121229  HOBBIES_1_011_CA_1_evaluation\n",
       "2      IMAPA  0.173060  HOBBIES_1_035_CA_1_evaluation\n",
       "3  AutoARIMA  0.192589  HOBBIES_1_039_CA_1_evaluation\n",
       "4      IMAPA  0.256529  HOBBIES_1_020_CA_1_evaluation\n",
       "5      IMAPA  0.278753  HOBBIES_1_026_CA_1_evaluation\n",
       "6      IMAPA  0.291273  HOBBIES_1_031_CA_1_evaluation\n",
       "7      IMAPA  0.292980  HOBBIES_1_024_CA_1_evaluation\n",
       "8      IMAPA  0.330838  HOBBIES_1_002_CA_1_evaluation\n",
       "9  AutoARIMA  0.336962  HOBBIES_1_012_CA_1_evaluation"
      ]
     },
     "metadata": {},
     "output_type": "display_data"
    },
    {
     "data": {
      "text/html": [
       "<small>schema: models:str,metric:float,unique_id:str</small>"
      ],
      "text/plain": [
       "<IPython.core.display.HTML object>"
      ]
     },
     "metadata": {},
     "output_type": "display_data"
    }
   ],
   "source": [
    "%%fsql\n",
    "results = LOAD '{{WORKING_DIR}}/model_search.parquet'\n",
    "\n",
    "TAKE 1 ROW PREPARTITION BY unique_id PRESORT metric ASC\n",
    "PRINT"
   ]
  },
  {
   "cell_type": "markdown",
   "metadata": {},
   "source": [
    "## Python Interoperability"
   ]
  },
  {
   "cell_type": "code",
   "execution_count": 46,
   "metadata": {},
   "outputs": [
    {
     "name": "stderr",
     "output_type": "stream",
     "text": [
      "Setting default log level to \"WARN\".\n",
      "To adjust logging level use sc.setLogLevel(newLevel). For SparkR, use setLogLevel(newLevel).\n"
     ]
    },
    {
     "name": "stdout",
     "output_type": "stream",
     "text": [
      "22/12/16 02:39:00 WARN NativeCodeLoader: Unable to load native-hadoop library for your platform... using builtin-java classes where applicable\n",
      "22/12/16 02:39:01 WARN Utils: Service 'SparkUI' could not bind on port 4040. Attempting port 4041.\n"
     ]
    },
    {
     "name": "stderr",
     "output_type": "stream",
     "text": [
      "                                                                                \r"
     ]
    }
   ],
   "source": [
    "%%fsql spark\n",
    "results = LOAD '{{WORKING_DIR}}/model_search.parquet'\n",
    "\n",
    "TAKE 1 ROW PREPARTITION BY unique_id PRESORT metric ASC\n",
    "YIELD DATAFRAME AS top"
   ]
  },
  {
   "cell_type": "code",
   "execution_count": 47,
   "metadata": {},
   "outputs": [],
   "source": [
    "top = top.native.toPandas()"
   ]
  },
  {
   "cell_type": "code",
   "execution_count": 48,
   "metadata": {},
   "outputs": [
    {
     "data": {
      "text/plain": [
       "IMAPA             29\n",
       "AutoARIMA         20\n",
       "CrostonClassic     1\n",
       "Name: models, dtype: int64"
      ]
     },
     "execution_count": 48,
     "metadata": {},
     "output_type": "execute_result"
    }
   ],
   "source": [
    "top['models'].value_counts()"
   ]
  },
  {
   "cell_type": "code",
   "execution_count": 43,
   "metadata": {},
   "outputs": [],
   "source": [
    "import seaborn as sns\n",
    "\n",
    "def plotter(df: pd.DataFrame):\n",
    "    sns.countplot(x=df['models'])\n",
    "    return"
   ]
  },
  {
   "cell_type": "code",
   "execution_count": 44,
   "metadata": {},
   "outputs": [
    {
     "data": {
      "image/png": "[encoded data removed]",
      "text/plain": [
       "<Figure size 432x288 with 1 Axes>"
      ]
     },
     "metadata": {
      "needs_background": "light"
     },
     "output_type": "display_data"
    }
   ],
   "source": [
    "plotter(top)"
   ]
  },
  {
   "cell_type": "markdown",
   "metadata": {},
   "source": [
    "## Interoperable SQL and Python\n",
    "\n",
    "We can actually compress the previous steps by invoking Python in `FugueSQL`"
   ]
  },
  {
   "cell_type": "code",
   "execution_count": 45,
   "metadata": {},
   "outputs": [
    {
     "data": {
      "image/png": "[encoded data removed]",
      "text/plain": [
       "<Figure size 432x288 with 1 Axes>"
      ]
     },
     "metadata": {
      "needs_background": "light"
     },
     "output_type": "display_data"
    }
   ],
   "source": [
    "%%fsql\n",
    "results = LOAD '{{WORKING_DIR}}/model_search.parquet'\n",
    "\n",
    "TAKE 1 ROW PREPARTITION BY unique_id PRESORT metric ASC\n",
    "OUTPUT USING plotter"
   ]
  }
 ],
 "metadata": {
  "kernelspec": {
   "display_name": "Python 3.8.13 ('fugue')",
   "language": "python",
   "name": "python3"
  },
  "language_info": {
   "codemirror_mode": {
    "name": "ipython",
    "version": 3
   },
   "file_extension": ".py",
   "mimetype": "text/x-python",
   "name": "python",
   "nbconvert_exporter": "python",
   "pygments_lexer": "ipython3",
   "version": "3.8.13"
  },
  "orig_nbformat": 4,
  "vscode": {
   "interpreter": {
    "hash": "9fcd6e71927f6b3e5f4fa4280b4e8e6a66aa8d4365bb61cf7ef4017620fc09b9"
   }
  }
 },
 "nbformat": 4,
 "nbformat_minor": 2
}
