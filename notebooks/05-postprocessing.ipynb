{
 "cells": [
  {
   "cell_type": "markdown",
   "metadata": {},
   "source": [
    "# Postprocessing\n",
    "\n",
    "Here we analyze the modelling results."
   ]
  },
  {
   "cell_type": "code",
   "execution_count": null,
   "metadata": {},
   "outputs": [],
   "source": [
    "import pandas as pd\n",
    "\n",
    "INPUT_DIR = os.path.abspath('data')\n",
    "WORKING_DIR = os.path.abspath(\"data/working\")"
   ]
  },
  {
   "cell_type": "markdown",
   "metadata": {},
   "source": [
    "## Python Solution"
   ]
  },
  {
   "cell_type": "code",
   "execution_count": null,
   "metadata": {},
   "outputs": [],
   "source": [
    "results = pd.read_parquet(f'{WORKING_DIR}/model_search.parquet')\n",
    "best_models = results.sort_values('metric', ascending=True).groupby(\"unique_id\").first()\n",
    "best_models['models'].value_counts()"
   ]
  },
  {
   "cell_type": "code",
   "execution_count": null,
   "metadata": {},
   "outputs": [],
   "source": [
    "from fugue_notebook import setup\n",
    "setup()"
   ]
  },
  {
   "cell_type": "code",
   "execution_count": null,
   "metadata": {},
   "outputs": [],
   "source": [
    "%%fsql\n",
    "results = LOAD '{{WORKING_DIR}}/model_search.parquet'\n",
    "PRINT"
   ]
  },
  {
   "cell_type": "code",
   "execution_count": null,
   "metadata": {},
   "outputs": [],
   "source": [
    "%%fsql\n",
    "results = LOAD '{{WORKING_DIR}}/model_search.parquet'\n",
    "\n",
    "temp = SELECT models, metric, unique_id,\n",
    "       ROW_NUMBER() OVER (PARTITION BY unique_id ORDER BY metric ASC) AS ranked_order\n",
    "       FROM results\n",
    "\n",
    "SELECT *\n",
    "  FROM temp\n",
    " WHERE ranked_order = 1 \n",
    " PRINT"
   ]
  },
  {
   "cell_type": "markdown",
   "metadata": {},
   "source": [
    "## Anonymity\n",
    "\n",
    "We can simplify the code further by removing the temp table. The next query will just operate on the result of the previous query."
   ]
  },
  {
   "cell_type": "code",
   "execution_count": null,
   "metadata": {},
   "outputs": [],
   "source": [
    "%%fsql\n",
    "results = LOAD '{{WORKING_DIR}}/model_search.parquet'\n",
    "\n",
    "SELECT models, metric, unique_id,\n",
    "ROW_NUMBER() OVER (PARTITION BY unique_id ORDER BY metric ASC) AS ranked_order\n",
    "\n",
    "SELECT *\n",
    " WHERE ranked_order = 1 \n",
    " PRINT"
   ]
  },
  {
   "cell_type": "markdown",
   "metadata": {},
   "source": [
    "## Additional Keywords\n",
    "\n",
    "We can further simplify the query above by using additional `FugueSQL` keywords."
   ]
  },
  {
   "cell_type": "code",
   "execution_count": null,
   "metadata": {},
   "outputs": [],
   "source": [
    "%%fsql\n",
    "results = LOAD '{{WORKING_DIR}}/model_search.parquet'\n",
    "\n",
    "TAKE 1 ROW PREPARTITION BY unique_id PRESORT metric ASC\n",
    "PRINT"
   ]
  },
  {
   "cell_type": "markdown",
   "metadata": {},
   "source": [
    "## Python Interoperability"
   ]
  },
  {
   "cell_type": "code",
   "execution_count": null,
   "metadata": {},
   "outputs": [],
   "source": [
    "%%fsql spark\n",
    "results = LOAD '{{WORKING_DIR}}/model_search.parquet'\n",
    "\n",
    "TAKE 1 ROW PREPARTITION BY unique_id PRESORT metric ASC\n",
    "YIELD DATAFRAME AS top"
   ]
  },
  {
   "cell_type": "code",
   "execution_count": null,
   "metadata": {},
   "outputs": [],
   "source": [
    "top = top.native.toPandas()"
   ]
  },
  {
   "cell_type": "code",
   "execution_count": null,
   "metadata": {},
   "outputs": [],
   "source": [
    "top['models'].value_counts()"
   ]
  },
  {
   "cell_type": "code",
   "execution_count": null,
   "metadata": {},
   "outputs": [],
   "source": [
    "import seaborn as sns\n",
    "\n",
    "def plotter(df: pd.DataFrame):\n",
    "    sns.countplot(x=df['models'])\n",
    "    return"
   ]
  },
  {
   "cell_type": "code",
   "execution_count": null,
   "metadata": {},
   "outputs": [],
   "source": [
    "plotter(top)"
   ]
  },
  {
   "cell_type": "markdown",
   "metadata": {},
   "source": [
    "## Interoperable SQL and Python\n",
    "\n",
    "We can actually compress the previous steps by invoking Python in `FugueSQL`"
   ]
  },
  {
   "cell_type": "code",
   "execution_count": null,
   "metadata": {},
   "outputs": [],
   "source": [
    "%%fsql\n",
    "results = LOAD '{{WORKING_DIR}}/model_search.parquet'\n",
    "\n",
    "TAKE 1 ROW PREPARTITION BY unique_id PRESORT metric ASC\n",
    "OUTPUT USING plotter"
   ]
  }
 ],
 "metadata": {
  "kernelspec": {
   "display_name": "Python 3.8.13 ('fugue')",
   "language": "python",
   "name": "python3"
  },
  "language_info": {
   "codemirror_mode": {
    "name": "ipython",
    "version": 3
   },
   "file_extension": ".py",
   "mimetype": "text/x-python",
   "name": "python",
   "nbconvert_exporter": "python",
   "pygments_lexer": "ipython3",
   "version": "3.8.13"
  },
  "orig_nbformat": 4,
  "vscode": {
   "interpreter": {
    "hash": "9fcd6e71927f6b3e5f4fa4280b4e8e6a66aa8d4365bb61cf7ef4017620fc09b9"
   }
  }
 },
 "nbformat": 4,
 "nbformat_minor": 2
}
