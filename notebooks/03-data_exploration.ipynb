{
 "cells": [
  {
   "cell_type": "markdown",
   "metadata": {},
   "source": [
    "# Data Exploration"
   ]
  },
  {
   "cell_type": "markdown",
   "metadata": {},
   "source": [
    "## Loading Data\n",
    "\n",
    "The data has been placed in a public S3 bucket for this tutorial. We will be using the data from Kaggle's [M5 Forecasting Accuracy](https://www.kaggle.com/competitions/m5-forecasting-accuracy) competition. This contains Walmart sales data for the USA.\n",
    "\n",
    "The data comprises 3049 individual products from 3 categories and 7 departments, sold in 10 stores in 3 states. The hierachical aggregation captures the combinations of these factors. For instance, we can create 1 time series for all sales, 3 time series for all sales per state, and so on. The largest category is sales of all individual 3049 products per 10 stores for 30490 time series.\n",
    "\n",
    "We start by downloading and unzipping the contents. This will give us the CSV files to work with."
   ]
  },
  {
   "cell_type": "code",
   "execution_count": null,
   "metadata": {},
   "outputs": [],
   "source": [
    "!wget -q -O tmp.zip https://fugue-data.s3.us-east-2.amazonaws.com/m5-forecasting-accuracy.zip && mkdir -p 'data' && mv 'tmp.zip' 'data/tmp.zip' && unzip -o 'data/tmp.zip' -d 'data' && rm 'data/tmp.zip'"
   ]
  },
  {
   "cell_type": "markdown",
   "metadata": {},
   "source": [
    "## First Look at Data\n",
    "\n",
    "We'll take a quick look at the data given to us to understand the problem more. Most of the code snippets here are taken from [Rob Mulla's Starter Notebook](https://www.kaggle.com/code/robikscube/m5-forecasting-starter-data-exploration). We're not going to go to deep to understand everything. We're only interested in doing some quick visualization."
   ]
  },
  {
   "cell_type": "code",
   "execution_count": null,
   "metadata": {},
   "outputs": [],
   "source": [
    "import pandas as pd\n",
    "import os\n",
    "\n",
    "# Read in the data\n",
    "INPUT_DIR = os.path.abspath('data')\n",
    "WORKING_DIR = os.path.abspath(\"data/working\")\n",
    "if not os.path.exists(WORKING_DIR):\n",
    "   os.makedirs(WORKING_DIR)\n",
    "calendar = pd.read_csv(f'{INPUT_DIR}/calendar.csv')\n",
    "training_data = pd.read_csv(f'{INPUT_DIR}/sales_train_evaluation.csv')\n",
    "sell_prices = pd.read_csv(f'{INPUT_DIR}/sell_prices.csv')\n"
   ]
  },
  {
   "cell_type": "markdown",
   "metadata": {},
   "source": [
    "**Training Data**\n",
    "\n",
    "We take a look at the head. Note the following:\n",
    "1. There is a hierarchichal nature to the data. There is a `dept_id` and a `cat_id`. \n",
    "2. A `store_id` + `item_id` is a unique identifier\n",
    "3. Columns `d_1` to `d_1913` form our timeseries of purchases"
   ]
  },
  {
   "cell_type": "code",
   "execution_count": null,
   "metadata": {},
   "outputs": [],
   "source": [
    "training_data.head()"
   ]
  },
  {
   "cell_type": "markdown",
   "metadata": {},
   "source": [
    "**Sell Prices**"
   ]
  },
  {
   "cell_type": "code",
   "execution_count": null,
   "metadata": {},
   "outputs": [],
   "source": [
    "sell_prices.head()"
   ]
  },
  {
   "cell_type": "markdown",
   "metadata": {},
   "source": [
    "**Calendar**\n",
    "\n",
    "We need to join `training_data` with `calendar` data by `wm_yr_wk` we can map the prices to dates"
   ]
  },
  {
   "cell_type": "code",
   "execution_count": null,
   "metadata": {},
   "outputs": [],
   "source": [
    "calendar.head()"
   ]
  },
  {
   "cell_type": "markdown",
   "metadata": {},
   "source": [
    "## Initial Plots\n",
    "\n",
    "We are not too concerned with getting the best model. We just want to understand the data better and what the timeseries looks like."
   ]
  },
  {
   "cell_type": "code",
   "execution_count": null,
   "metadata": {},
   "outputs": [],
   "source": [
    "import matplotlib.pylab as plt\n",
    "import seaborn as sns\n",
    "from itertools import cycle\n",
    "\n",
    "plt.style.use('bmh')\n",
    "color_pal = plt.rcParams['axes.prop_cycle'].by_key()['color']\n",
    "color_cycle = cycle(plt.rcParams['axes.prop_cycle'].by_key()['color'])"
   ]
  },
  {
   "cell_type": "code",
   "execution_count": null,
   "metadata": {},
   "outputs": [],
   "source": [
    "d_cols = [c for c in training_data.columns if 'd_' in c] # sales data columns\n",
    "\n",
    "def plot_one(data: pd.DataFrame, calendar: pd.DataFrame, id: str) -> None:\n",
    "    data = data.loc[data['id'] == id].copy(deep=True)\n",
    "    idx = data.index.values[0]\n",
    "    example = (\n",
    "        data[d_cols]\\\n",
    "        .T\\\n",
    "        .rename(columns={str(idx):id})\\\n",
    "        .reset_index()\\\n",
    "        .rename(columns={'index': 'd'})\\\n",
    "        .merge(calendar, how='left', validate='one_to_one')\\\n",
    "        .set_index('date')[idx]\n",
    "    )\n",
    "    example.plot(figsize=(15, 5),\n",
    "            color=next(color_cycle),\n",
    "            title=f'{id} sales by actual sale dates')\n",
    "    plt.show()\n",
    "    return\n",
    "\n",
    "plot_one(training_data, calendar, 'HOBBIES_1_234_CA_3_evaluation')\n",
    "plot_one(training_data, calendar, 'FOODS_3_090_CA_3_evaluation')\n",
    "plot_one(training_data, calendar, 'HOUSEHOLD_1_118_CA_3_evaluation')"
   ]
  },
  {
   "cell_type": "markdown",
   "metadata": {},
   "source": [
    "## Next Steps\n",
    "\n",
    "In this section, we took an initial look at the data. In the next section, we'll begin preprocessing it."
   ]
  }
 ],
 "metadata": {
  "kernelspec": {
   "display_name": "Python 3 (ipykernel)",
   "language": "python",
   "name": "python3"
  },
  "language_info": {
   "codemirror_mode": {
    "name": "ipython",
    "version": 3
   },
   "file_extension": ".py",
   "mimetype": "text/x-python",
   "name": "python",
   "nbconvert_exporter": "python",
   "pygments_lexer": "ipython3",
   "version": "3.8.13"
  },
  "vscode": {
   "interpreter": {
    "hash": "9fcd6e71927f6b3e5f4fa4280b4e8e6a66aa8d4365bb61cf7ef4017620fc09b9"
   }
  }
 },
 "nbformat": 4,
 "nbformat_minor": 2
}
